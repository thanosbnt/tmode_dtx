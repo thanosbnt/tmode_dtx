{
 "cells": [
  {
   "cell_type": "markdown",
   "metadata": {},
   "source": [
    "### BEGIN: Confusion matrix for prop. method"
   ]
  },
  {
   "cell_type": "code",
   "execution_count": null,
   "metadata": {
    "collapsed": true
   },
   "outputs": [],
   "source": [
    "#########################################\n",
    "#########################################\n",
    "#########################################\n",
    "#########################################\n",
    "\n",
    "\n",
    "import pandas as pd\n",
    "import math\n",
    "import geopandas as gpd\n",
    "import numpy as np\n",
    "\n",
    "model = pm.database.sqlite.load('F:\\\\AdelsCode\\\\Data\\\\simulation data\\\\AllGPS5WithCovariates.sqlite')\n",
    "s5 = model.trace('states').gettrace()[:]\n",
    "s5 = np.median(s5,axis=0)\n",
    "\n",
    "dist = []\n",
    "timeDiff = []\n",
    "WithStat = []\n",
    "\n",
    "df = gpd.read_file(\"F:\\\\AdelsCode\\\\Data\\\\AllGPS5WithCovariates.shp\")\n",
    "# df = df.sample(frac=0.6, replace=True)\n",
    "\n",
    "\n",
    "df[\"nearTube\"] = df[\"rail\"]\n",
    "df[\"nearBus\"] = df[\"bus\"]\n",
    "df[\"div\"] = df[\"SpeedMS\"]\n",
    "df = df[df[\"div\"] > 0]\n",
    "\n",
    "df[\"time\"] = pd.to_datetime(df[\"fixTime\"], format=\"%d/%m/%Y %H:%M\")\n",
    "# df = df[(df['time'] > '13/05/2010')]\n",
    "\n",
    "df = df.sort(\"time\")\n",
    "# df = df.iloc[0:100]\n",
    "df = df.reset_index()\n",
    "\n",
    "def distance(lat1, lon1, lat2, lon2):\n",
    "    lon1, lat1, lon2, lat2 = map(math.radians, [lon1, lat1, lon2, lat2])\n",
    "\n",
    "    # haversine formula\n",
    "    dlon = lon2 - lon1\n",
    "    dlat = lat2 - lat1\n",
    "    a = math.sin(dlat/2)**2 + math.cos(lat1) * math.cos(lat2) * math.sin(dlon/2)**2\n",
    "    c = 2 * math.asin(math.sqrt(a))\n",
    "    r = 6371 # Radius of earth in kilometers. Use 3956 for miles\n",
    "    return (c * r) * 1000\n",
    "\n",
    "for i in range(0, df.shape[0]-1):\n",
    "    lon2 = df.iloc[i]['latitude']\n",
    "    lon1 = df.iloc[i+1]['latitude']\n",
    "    lat2 = df.iloc[i]['longitude']\n",
    "    lat1 = df.iloc[i+1]['longitude']\n",
    "    dist.append(distance(lat1, lon1, lat2, lon2))\n",
    "    timeDiff.append((df[\"time\"][i+1]-df[\"time\"][i]).total_seconds())\n",
    "    WithStat.append(df.iloc[i+1]['WithStat'])\n",
    "   \n",
    "    #ids.append(df[\"id\"][i])\n",
    "   \n",
    "df2 = pd.DataFrame(dist, columns = ['dist'])\n",
    "i = 0\n",
    "for x in timeDiff:\n",
    "    if x<0:\n",
    "        timeDiff[i]=0\n",
    "    i = i+1\n",
    "   \n",
    "   \n",
    "df2['time'] = timeDiff\n",
    "df2['div'] = df2['dist']/df2['time']\n",
    "df2['fixTime'] = df[\"fixTime\"]\n",
    "df2['nearBus'] = df[\"nearBus\"]\n",
    "df2['nearTube'] = df[\"nearTube\"]\n",
    "df2['IMDS10'] = df[\"IMDS10\"]\n",
    "df2['WithStat'] = WithStat\n",
    "df2 = df2[df2['WithStat'] != 'cycle']\n",
    "\n",
    "df2 = df2[np.isfinite(df['div'])]\n",
    "df2 = df2.reset_index()\n",
    "\n",
    "data5 = df2\n",
    "data5 = data5[[\"nearBus\",\"nearTube\",\"IMDS10\",\"div\", \"WithStat\"]]\n",
    "# data.to_csv(\"F:\\\\AdelsCode\\\\Data\\\\test.csv\")\n",
    "data5 = data5[data[\"div\"] > 0]\n",
    "\n",
    "data5.reset_index(inplace=True)\n",
    "\n",
    "data5.set_value(data5[data5[\"WithStat\"] == \"stationary\"].index,\"WithStat\",  0)\n",
    "data5.set_value(data5[data5[\"WithStat\"] == \"walk\"].index,\"WithStat\",  1)\n",
    "data5.set_value(data5[data5[\"WithStat\"] == \"bus\"].index,\"WithStat\",  2)\n",
    "data5.set_value(data5[data5[\"WithStat\"] == \"train\"].index,\"WithStat\",  3)\n",
    "data5.set_value(data5[data5[\"WithStat\"] == \"tube\"].index,\"WithStat\",  3)\n",
    "data5[pd.isnull(data5.WithStat)] = 0\n",
    "\n",
    "j5 = confusion_matrix(s5, (data5[[\"WithStat\"]].values.flatten()).astype(int))\n",
    "print j5\n",
    "print \"accuracy: \", float(np.trace(j5))/j5.sum()\n",
    "\n",
    "\n",
    "\n",
    "######################################\n"
   ]
  },
  {
   "cell_type": "markdown",
   "metadata": {},
   "source": [
    "### END: Confusion matrix for prop. method"
   ]
  },
  {
   "cell_type": "code",
   "execution_count": null,
   "metadata": {
    "collapsed": true
   },
   "outputs": [],
   "source": []
  }
 ],
 "metadata": {
  "kernelspec": {
   "display_name": "Python 2",
   "language": "python",
   "name": "python2"
  },
  "language_info": {
   "codemirror_mode": {
    "name": "ipython",
    "version": 2
   },
   "file_extension": ".py",
   "mimetype": "text/x-python",
   "name": "python",
   "nbconvert_exporter": "python",
   "pygments_lexer": "ipython2",
   "version": "2.7.13"
  }
 },
 "nbformat": 4,
 "nbformat_minor": 2
}
